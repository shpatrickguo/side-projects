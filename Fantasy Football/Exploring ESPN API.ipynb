{
 "cells": [
  {
   "cell_type": "markdown",
   "id": "05512068-baf8-4076-9438-9f290ca1c2e3",
   "metadata": {},
   "source": [
    "## ESPN API\n",
    "\n",
    "Exploring a [package](https://github.com/cwendt94/espn-api?tab=readme-ov-file) that uses ESPN's Fantasy API to extract data from any public or private league for Fantasy Football."
   ]
  },
  {
   "cell_type": "code",
   "execution_count": 2,
   "id": "240d8929-c50a-4d2f-9f48-a57c247bf22f",
   "metadata": {},
   "outputs": [],
   "source": [
    "%%capture\n",
    "!pip install espn_api"
   ]
  },
  {
   "cell_type": "code",
   "execution_count": 28,
   "id": "1e50416d-16bf-4860-bca8-d04eb081afac",
   "metadata": {},
   "outputs": [],
   "source": [
    "import pandas as pd\n",
    "# Football API\n",
    "from espn_api.football import League"
   ]
  },
  {
   "cell_type": "code",
   "execution_count": 20,
   "id": "748e1669-0e0a-4755-b1cc-816be0d309c9",
   "metadata": {},
   "outputs": [],
   "source": [
    "# Init, league ID and year found from URL on fantasy.espn\n",
    "league = League(league_id=588987292, year=2023)"
   ]
  },
  {
   "cell_type": "code",
   "execution_count": 21,
   "id": "9909f5c3-d330-458e-81e0-acba51508200",
   "metadata": {},
   "outputs": [
    {
     "data": {
      "text/plain": [
       "[Team(Team Thomas),\n",
       " Team(Team Oetken),\n",
       " Team(Team Book),\n",
       " Team(Team Angwekwe),\n",
       " Team(Team Strain),\n",
       " Team(Team Brueggemann),\n",
       " Team(Team Hart),\n",
       " Team(Team Guo),\n",
       " Team(Team Mo),\n",
       " Team(Team Diallo)]"
      ]
     },
     "execution_count": 21,
     "metadata": {},
     "output_type": "execute_result"
    }
   ],
   "source": [
    "league.teams"
   ]
  },
  {
   "cell_type": "code",
   "execution_count": 23,
   "id": "5fbba84c-7f05-4e61-b464-3b3546bcdf1a",
   "metadata": {},
   "outputs": [
    {
     "data": {
      "text/plain": [
       "[Player(Justin Jefferson),\n",
       " Player(Amon-Ra St. Brown),\n",
       " Player(Josh Jacobs),\n",
       " Player(Rachaad White),\n",
       " Player(Joe Burrow),\n",
       " Player(Pat Freiermuth),\n",
       " Player(DJ Moore),\n",
       " Player(Drake London),\n",
       " Player(AJ Dillon),\n",
       " Player(Brian Robinson Jr.),\n",
       " Player(Treylon Burks),\n",
       " Player(Steelers D/ST),\n",
       " Player(Kenny Pickett),\n",
       " Player(Younghoe Koo),\n",
       " Player(Elijah Mitchell),\n",
       " Player(Roschon Johnson)]"
      ]
     },
     "execution_count": 23,
     "metadata": {},
     "output_type": "execute_result"
    }
   ],
   "source": [
    "team = league.teams[7]\n",
    "team.roster"
   ]
  },
  {
   "cell_type": "code",
   "execution_count": 33,
   "id": "573a3e51-4e5e-4ba2-a0e3-1faa3232b382",
   "metadata": {},
   "outputs": [
    {
     "data": {
      "text/html": [
       "<div>\n",
       "<style scoped>\n",
       "    .dataframe tbody tr th:only-of-type {\n",
       "        vertical-align: middle;\n",
       "    }\n",
       "\n",
       "    .dataframe tbody tr th {\n",
       "        vertical-align: top;\n",
       "    }\n",
       "\n",
       "    .dataframe thead th {\n",
       "        text-align: right;\n",
       "    }\n",
       "</style>\n",
       "<table border=\"1\" class=\"dataframe\">\n",
       "  <thead>\n",
       "    <tr style=\"text-align: right;\">\n",
       "      <th></th>\n",
       "      <th>name</th>\n",
       "      <th>id</th>\n",
       "      <th>position rank</th>\n",
       "      <th>position</th>\n",
       "      <th>pro team</th>\n",
       "      <th>eligible slots</th>\n",
       "      <th>acquisition type</th>\n",
       "    </tr>\n",
       "  </thead>\n",
       "  <tbody>\n",
       "    <tr>\n",
       "      <th>0</th>\n",
       "      <td>Justin Jefferson</td>\n",
       "      <td>4262921</td>\n",
       "      <td>1</td>\n",
       "      <td>WR</td>\n",
       "      <td>MIN</td>\n",
       "      <td>RB/WR</td>\n",
       "      <td>DRAFT</td>\n",
       "    </tr>\n",
       "    <tr>\n",
       "      <th>1</th>\n",
       "      <td>Justin Jefferson</td>\n",
       "      <td>4262921</td>\n",
       "      <td>1</td>\n",
       "      <td>WR</td>\n",
       "      <td>MIN</td>\n",
       "      <td>WR</td>\n",
       "      <td>DRAFT</td>\n",
       "    </tr>\n",
       "    <tr>\n",
       "      <th>2</th>\n",
       "      <td>Justin Jefferson</td>\n",
       "      <td>4262921</td>\n",
       "      <td>1</td>\n",
       "      <td>WR</td>\n",
       "      <td>MIN</td>\n",
       "      <td>WR/TE</td>\n",
       "      <td>DRAFT</td>\n",
       "    </tr>\n",
       "    <tr>\n",
       "      <th>3</th>\n",
       "      <td>Justin Jefferson</td>\n",
       "      <td>4262921</td>\n",
       "      <td>1</td>\n",
       "      <td>WR</td>\n",
       "      <td>MIN</td>\n",
       "      <td>RB/WR/TE</td>\n",
       "      <td>DRAFT</td>\n",
       "    </tr>\n",
       "    <tr>\n",
       "      <th>4</th>\n",
       "      <td>Justin Jefferson</td>\n",
       "      <td>4262921</td>\n",
       "      <td>1</td>\n",
       "      <td>WR</td>\n",
       "      <td>MIN</td>\n",
       "      <td>OP</td>\n",
       "      <td>DRAFT</td>\n",
       "    </tr>\n",
       "    <tr>\n",
       "      <th>5</th>\n",
       "      <td>Justin Jefferson</td>\n",
       "      <td>4262921</td>\n",
       "      <td>1</td>\n",
       "      <td>WR</td>\n",
       "      <td>MIN</td>\n",
       "      <td>BE</td>\n",
       "      <td>DRAFT</td>\n",
       "    </tr>\n",
       "    <tr>\n",
       "      <th>6</th>\n",
       "      <td>Justin Jefferson</td>\n",
       "      <td>4262921</td>\n",
       "      <td>1</td>\n",
       "      <td>WR</td>\n",
       "      <td>MIN</td>\n",
       "      <td>IR</td>\n",
       "      <td>DRAFT</td>\n",
       "    </tr>\n",
       "  </tbody>\n",
       "</table>\n",
       "</div>"
      ],
      "text/plain": [
       "               name       id  position rank position pro team eligible slots  \\\n",
       "0  Justin Jefferson  4262921              1       WR      MIN          RB/WR   \n",
       "1  Justin Jefferson  4262921              1       WR      MIN             WR   \n",
       "2  Justin Jefferson  4262921              1       WR      MIN          WR/TE   \n",
       "3  Justin Jefferson  4262921              1       WR      MIN       RB/WR/TE   \n",
       "4  Justin Jefferson  4262921              1       WR      MIN             OP   \n",
       "5  Justin Jefferson  4262921              1       WR      MIN             BE   \n",
       "6  Justin Jefferson  4262921              1       WR      MIN             IR   \n",
       "\n",
       "  acquisition type  \n",
       "0            DRAFT  \n",
       "1            DRAFT  \n",
       "2            DRAFT  \n",
       "3            DRAFT  \n",
       "4            DRAFT  \n",
       "5            DRAFT  \n",
       "6            DRAFT  "
      ]
     },
     "execution_count": 33,
     "metadata": {},
     "output_type": "execute_result"
    }
   ],
   "source": [
    "player = team.roster[0]\n",
    "player_info_data = {\n",
    "    \"name\": player.name,\n",
    "    \"id\": player.playerId,\n",
    "    \"position rank\": player.posRank,\n",
    "    \"position\": player.position,\n",
    "    \"pro team\": player.proTeam,\n",
    "    \"eligible slots\": player.eligibleSlots,\n",
    "    \"acquisition type\": player.acquisitionType\n",
    "}\n",
    "player_info_df = pd.DataFrame(player_info_data)\n",
    "player_info_df"
   ]
  },
  {
   "cell_type": "code",
   "execution_count": null,
   "id": "6e95b8fe-1647-435e-94e4-5ebdfa99e2ba",
   "metadata": {},
   "outputs": [],
   "source": []
  }
 ],
 "metadata": {
  "kernelspec": {
   "display_name": "venv",
   "language": "python",
   "name": "venv"
  },
  "language_info": {
   "codemirror_mode": {
    "name": "ipython",
    "version": 3
   },
   "file_extension": ".py",
   "mimetype": "text/x-python",
   "name": "python",
   "nbconvert_exporter": "python",
   "pygments_lexer": "ipython3",
   "version": "3.8.12"
  }
 },
 "nbformat": 4,
 "nbformat_minor": 5
}
