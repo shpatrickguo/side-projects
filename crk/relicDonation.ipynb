{
 "cells": [
  {
   "cell_type": "code",
   "execution_count": 2,
   "id": "5cfc6206-31eb-4765-bdf8-6c26d13ebd8b",
   "metadata": {},
   "outputs": [],
   "source": [
    "# Image handling\n",
    "from PIL import Image  \n",
    "from PIL import Image, ImageFilter\n",
    "import cv2\n",
    "import imghdr\n",
    "\n",
    "# Data handling\n",
    "import pandas as pd\n",
    "import numpy as np\n",
    "\n",
    "# Filesystem  \n",
    "import os\n",
    "\n",
    "# Text processing\n",
    "import pytesseract  \n",
    "import re\n",
    "\n",
    "# Dates\n",
    "from datetime import datetime"
   ]
  },
  {
   "cell_type": "code",
   "execution_count": 3,
   "id": "85244bf1-c2f9-4cd4-91fe-633bb80fe625",
   "metadata": {},
   "outputs": [],
   "source": [
    "def slice_video_on_profile_change(video_path, output_folder, threshold=100):\n",
    "\n",
    "    # Open video \n",
    "    cap = cv2.VideoCapture(video_path)\n",
    "\n",
    "    # Keep previous frame to compare with\n",
    "    prev_img = None \n",
    "\n",
    "    # Counter for sliced segment numbers\n",
    "    seg_num = 0\n",
    "\n",
    "    # Read video frames until end\n",
    "    while cap.isOpened():\n",
    "\n",
    "        # Read next frame\n",
    "        ret, frame = cap.read()\n",
    "\n",
    "        # Break out of loop if video ended\n",
    "        if not ret:  \n",
    "            break\n",
    "\n",
    "    # Convert colored frame to grayscale\n",
    "    gray = cv2.cvtColor(frame, cv2.COLOR_BGR2GRAY)\n",
    "\n",
    "    # Compare current frame vs previous  \n",
    "    # If difference bigger than threshold, profile changed\n",
    "    if prev_img is None or np.mean(np.abs(gray - prev_img)) > threshold:\n",
    "      \n",
    "        # Save current frame as new profile  \n",
    "        prev_img = gray.copy()\n",
    "\n",
    "        # Increment segment counter\n",
    "        seg_num += 1\n",
    "\n",
    "        # Write sliced segment frame to file\n",
    "        cv2.imwrite(f\"{output_folder}/segment_{seg_num}.jpg\", frame)\n",
    "\n",
    "    # Release video resource  \n",
    "    cap.release()"
   ]
  },
  {
   "cell_type": "code",
   "execution_count": 4,
   "id": "1d8775a3-7d78-4576-8ff1-ecf420afd264",
   "metadata": {},
   "outputs": [],
   "source": [
    "# Set of allowed image formats\n",
    "IMAGE_FORMATS = {'png', 'jpg', 'jpeg'} \n",
    "\n",
    "def ocr_image(image_path, kernel_size=1):\n",
    "\n",
    "    # Validate image file\n",
    "    ext = os.path.splitext(image_path)[1].lower()\n",
    "    if ext[1:] not in IMAGE_FORMATS and imghdr.what(image_path) not in IMAGE_FORMATS: \n",
    "        return None\n",
    "    \n",
    "    # Load image\n",
    "    image = Image.open(image_path)\n",
    "\n",
    "    # Convert to grayscale    \n",
    "    gray = image.convert('L')\n",
    "\n",
    "    # Apply gaussian blur to remove noise\n",
    "    blur = gray.filter(ImageFilter.GaussianBlur(radius=kernel_size))\n",
    "\n",
    "    # Perform OCR\n",
    "    text = pytesseract.image_to_string(blur)\n",
    "\n",
    "    return text"
   ]
  },
  {
   "cell_type": "code",
   "execution_count": 5,
   "id": "acadfb9e-1265-4d19-8f1e-88f30ae24809",
   "metadata": {},
   "outputs": [],
   "source": [
    "def append_if_valid(df, row, valid_users):\n",
    "    username = row['Username']\n",
    "\n",
    "    if username in valid_users:\n",
    "        df = df.append(row, ignore_index=True)\n",
    "\n",
    "    return df "
   ]
  },
  {
   "cell_type": "code",
   "execution_count": 6,
   "id": "7254f1ff-64ee-435b-b079-570698c84eb9",
   "metadata": {},
   "outputs": [],
   "source": [
    "# Create empty dataframe \n",
    "df = pd.DataFrame(columns=['IGN', 'Relic Donation Points', 'Date'])"
   ]
  },
  {
   "cell_type": "code",
   "execution_count": 7,
   "id": "1b953750-1dee-4a8c-92e5-79922a641880",
   "metadata": {},
   "outputs": [
    {
     "name": "stdout",
     "output_type": "stream",
     "text": [
      "['Crimson', 'SAIKA SAN', 'Acebites', 'BigBoyChaddy', 'ChocoChipDinie', 'darkvioletfox', 'Gingerdoodles', 'Glutenburgh', 'jjoool', 'jtrimble3', 'JuicyJJ1', 'Karou8', 'mangozic', 'MarinKitagawa  ', 'MelonBunii', 'Minty24', 'MochixIsland', 'Momomoses', 'Nickknack', 'Portallifesource', 'r2miss', 'RougeAether', 'SALTMAMA', 'Steveth', 'V1b1ingFlash', 'valertine', 'Windsweep', 'xChocobo', 'Zane0930']\n"
     ]
    }
   ],
   "source": [
    "usernames = \"\"\"\n",
    "Crimson\n",
    "SAIKA SAN\n",
    "Acebites\n",
    "BigBoyChaddy\n",
    "ChocoChipDinie\n",
    "darkvioletfox\n",
    "Gingerdoodles\n",
    "Glutenburgh\n",
    "jjoool\n",
    "jtrimble3\n",
    "JuicyJJ1\n",
    "Karou8\n",
    "mangozic\n",
    "MarinKitagawa  \n",
    "MelonBunii\n",
    "Minty24\n",
    "MochixIsland\n",
    "Momomoses\n",
    "Nickknack\n",
    "Portallifesource\n",
    "r2miss\n",
    "RougeAether\n",
    "SALTMAMA\n",
    "Steveth\n",
    "V1b1ingFlash\n",
    "valertine\n",
    "Windsweep\n",
    "xChocobo\n",
    "Zane0930\n",
    "\"\"\"\n",
    "\n",
    "# Split by newline \n",
    "username_list = usernames.split(\"\\n\")\n",
    "\n",
    "# Remove empty strings\n",
    "valid_users = list(filter(None, username_list))\n",
    "\n",
    "print(valid_users)"
   ]
  },
  {
   "cell_type": "code",
   "execution_count": 12,
   "id": "ab6e15b4-b8a4-4f39-a745-4e244f9b7a05",
   "metadata": {},
   "outputs": [
    {
     "data": {
      "text/plain": [
       "\"@ Everybody's Friend\\nMelonBunii\\n\\nA jl Crystal 3\\n148) WISTERIA\\n\\nActivity Points 358,003 4a\\n\\nBasic Activity Expansion Relic Donation\\nPoints oints Points\\n250,000 803 107,200\\n\\n~™ Prestige 123,470 tikes & Gifts\\n\""
      ]
     },
     "execution_count": 12,
     "metadata": {},
     "output_type": "execute_result"
    }
   ],
   "source": [
    "ocr_image('slice/segment_41.jpg')"
   ]
  },
  {
   "cell_type": "code",
   "execution_count": null,
   "id": "e0a08f40-0457-4e5a-b1fd-5329bc7837c0",
   "metadata": {},
   "outputs": [],
   "source": [
    "# Example call \n",
    "#slice_video_on_profile_change('video.mp4', 'slice')\n",
    "\n",
    "# Folder path \n",
    "folder_path = 'slice/' \n",
    "\n",
    "# Loop through all images in folder\n",
    "for filename in os.listdir(folder_path):\n",
    "    try:\n",
    "        # Perform OCR on image\n",
    "        text = ocr_image(folder_path+filename)\n",
    "    \n",
    "\n",
    "        # Username is after first \\n\n",
    "        username = text.split(\"\\n\", 1)[1]\n",
    "\n",
    "        # Points is last number before \"Prestige\"\n",
    "        points = re.search(r'(\\d+)\\n.*Prestige', text).group(1)\n",
    "\n",
    "\n",
    "        # Get image upload date\n",
    "        upload_time = os.path.getmtime(image_path)\n",
    "        upload_date = datetime.fromtimestamp(upload_time).date()\n",
    "\n",
    "        # Create new row\n",
    "        new_row = {\n",
    "            'IGN': username,\n",
    "            'Relic Donation Points': points,\n",
    "            'Date': upload_date\n",
    "        }\n",
    "\n",
    "        # Append row if username is valid\n",
    "        df = append_if_valid(df, row, valid_users)\n",
    "\n",
    "        # Drop duplicates\n",
    "        df = df.drop_duplicates()\n",
    "    except:\n",
    "        pass"
   ]
  },
  {
   "cell_type": "code",
   "execution_count": null,
   "id": "6e1093b0-5c41-4541-bd01-c9ff726874e1",
   "metadata": {},
   "outputs": [],
   "source": []
  }
 ],
 "metadata": {
  "kernelspec": {
   "display_name": "Python 3 (ipykernel)",
   "language": "python",
   "name": "python3"
  },
  "language_info": {
   "codemirror_mode": {
    "name": "ipython",
    "version": 3
   },
   "file_extension": ".py",
   "mimetype": "text/x-python",
   "name": "python",
   "nbconvert_exporter": "python",
   "pygments_lexer": "ipython3",
   "version": "3.8.12"
  }
 },
 "nbformat": 4,
 "nbformat_minor": 5
}
