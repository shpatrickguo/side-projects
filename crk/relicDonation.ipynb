{
 "cells": [
  {
   "cell_type": "code",
   "execution_count": 1,
   "id": "5cfc6206-31eb-4765-bdf8-6c26d13ebd8b",
   "metadata": {},
   "outputs": [],
   "source": [
    "# Image handling\n",
    "from PIL import Image, ImageFilter, ImageEnhance\n",
    "import cv2\n",
    "import imghdr\n",
    "\n",
    "# Data handling\n",
    "import pandas as pd\n",
    "import numpy as np\n",
    "\n",
    "# Filesystem  \n",
    "import os\n",
    "\n",
    "# Text processing\n",
    "import pytesseract  \n",
    "import re\n",
    "\n",
    "# Dates\n",
    "from datetime import datetime"
   ]
  },
  {
   "cell_type": "code",
   "execution_count": 2,
   "id": "85244bf1-c2f9-4cd4-91fe-633bb80fe625",
   "metadata": {},
   "outputs": [],
   "source": [
    "def slice_video_on_profile_change(video_path, output_folder, threshold=100):\n",
    "\n",
    "    # Open video \n",
    "    cap = cv2.VideoCapture(video_path)\n",
    "\n",
    "    # Keep previous frame to compare with\n",
    "    prev_img = None \n",
    "\n",
    "    # Counter for sliced segment numbers\n",
    "    seg_num = 0\n",
    "\n",
    "    # Read video frames until end\n",
    "    while cap.isOpened():\n",
    "\n",
    "        # Read next frame\n",
    "        ret, frame = cap.read()\n",
    "\n",
    "        # Break out of loop if video ended\n",
    "        if not ret:  \n",
    "            break\n",
    "\n",
    "        # Convert colored frame to grayscale\n",
    "        gray = cv2.cvtColor(frame, cv2.COLOR_BGR2GRAY)\n",
    "\n",
    "        # Compare current frame vs previous  \n",
    "        # If difference bigger than threshold, profile changed\n",
    "        if prev_img is None or np.mean(np.abs(gray - prev_img)) > threshold:\n",
    "\n",
    "            # Save current frame as new profile  \n",
    "            prev_img = gray.copy()\n",
    "\n",
    "            # Increment segment counter\n",
    "            seg_num += 1\n",
    "\n",
    "            # Write sliced segment frame to file\n",
    "            cv2.imwrite(f\"{output_folder}/segment_{seg_num}.jpg\", frame)\n",
    "\n",
    "    # Release video resource  \n",
    "    cap.release()"
   ]
  },
  {
   "cell_type": "code",
   "execution_count": 15,
   "id": "1d8775a3-7d78-4576-8ff1-ecf420afd264",
   "metadata": {},
   "outputs": [],
   "source": [
    "# Set of allowed image formats\n",
    "IMAGE_FORMATS = {'png', 'jpg', 'jpeg'} \n",
    "\n",
    "def ocr_image(image_path, kernel_size=1, contrast_factor=30):\n",
    "\n",
    "    # Validate image file\n",
    "    ext = os.path.splitext(image_path)[1].lower()\n",
    "    if ext[1:] not in IMAGE_FORMATS and imghdr.what(image_path) not in IMAGE_FORMATS: \n",
    "        return None\n",
    "    \n",
    "    # Load image\n",
    "    image = Image.open(image_path)\n",
    "\n",
    "    # Convert to grayscale    \n",
    "    gray = image.convert('L')\n",
    "    # Increase contrast\n",
    "    enhancer = ImageEnhance.Contrast(gray)\n",
    "    contrast = enhancer.enhance(contrast_factor)\n",
    "    \n",
    "    # Apply gaussian blur to remove noise\n",
    "    blur = contrast.filter(ImageFilter.GaussianBlur(radius=kernel_size))\n",
    "\n",
    "    # Perform OCR\n",
    "    text = pytesseract.image_to_string(blur)\n",
    "\n",
    "    return text"
   ]
  },
  {
   "cell_type": "code",
   "execution_count": 20,
   "id": "ab6e15b4-b8a4-4f39-a745-4e244f9b7a05",
   "metadata": {},
   "outputs": [],
   "source": [
    "slice_video_on_profile_change('Final.mov', 'slice')"
   ]
  },
  {
   "cell_type": "code",
   "execution_count": null,
   "id": "1f50812f-1690-4b02-9db7-ed53561adc93",
   "metadata": {},
   "outputs": [],
   "source": [
    "folder = 'slice/'\n",
    "\n",
    "for filename in os.listdir(folder):\n",
    "    image_path = os.path.join(folder, filename)\n",
    "\n",
    "    text = ocr_image(image_path)\n",
    "    \n",
    "    # Check if 'Relic' appears in OCR text\n",
    "    if 'Relic' not in text:\n",
    "        os.remove(image_path) \n",
    "        continue"
   ]
  },
  {
   "cell_type": "code",
   "execution_count": null,
   "id": "2029c733-f780-41e6-903e-1ecc29a2c09e",
   "metadata": {},
   "outputs": [],
   "source": [
    "# Get list of files in folder\n",
    "files = os.listdir(folder) \n",
    "\n",
    "# Filter to only image files\n",
    "images = [f for f in files if f.endswith(('.jpg', '.png', '.jpeg'))]\n",
    "\n",
    "# Validate number of images\n",
    "if len(images) != 30:\n",
    "    raise ValueError(f\"Expected 30 images, found {len(images)}\")\n",
    "\n",
    "print(f\"Verified {len(images)} images in {folder}\")"
   ]
  },
  {
   "cell_type": "code",
   "execution_count": null,
   "id": "3000bf33-cce8-4ce4-8c00-540d308abff2",
   "metadata": {},
   "outputs": [],
   "source": [
    "ocr_image('slice/segment_82.jpg')"
   ]
  },
  {
   "cell_type": "code",
   "execution_count": null,
   "id": "e0a08f40-0457-4e5a-b1fd-5329bc7837c0",
   "metadata": {},
   "outputs": [],
   "source": [
    "# Create empty dataframe \n",
    "df = pd.DataFrame(columns=['IGN', 'Relic Donation Points', 'Date'])\n",
    "\n",
    "# Folder path \n",
    "folder_path = 'slice/' \n",
    "\n",
    "# Loop through images\n",
    "for filename in os.listdir(folder_path):\n",
    "\n",
    "    # Full image path\n",
    "    image_path = os.path.join(folder_path, filename)  \n",
    "\n",
    "    # Extract data from image \n",
    "    text = ocr_image(image_path)\n",
    "    \n",
    "    username = re.search(r'([\\w]+)(?=\\n)', text).group(1)\n",
    "    points = int(re.search(r'(\\d+)\\n*$', text).group(1))\n",
    "    date = datetime.fromtimestamp(os.path.getmtime(image_path)).date()\n",
    "\n",
    "\n",
    "    # Create new row\n",
    "    new_row = {\n",
    "        'IGN': username,\n",
    "        'Relic Donation Points': points,\n",
    "        'Date': date,\n",
    "        'File': image_path\n",
    "    }\n",
    "    # Append row to dataframe\n",
    "    df = df.append(new_row, ignore_index=True)\n",
    "\n",
    "    # Drop duplicates\n",
    "    df = df.drop_duplicates()"
   ]
  },
  {
   "cell_type": "code",
   "execution_count": null,
   "id": "6e1093b0-5c41-4541-bd01-c9ff726874e1",
   "metadata": {},
   "outputs": [],
   "source": [
    "df"
   ]
  },
  {
   "cell_type": "code",
   "execution_count": null,
   "id": "499e761a-6ef5-4463-b9af-3d32c99732fe",
   "metadata": {},
   "outputs": [],
   "source": []
  }
 ],
 "metadata": {
  "kernelspec": {
   "display_name": "Python 3 (ipykernel)",
   "language": "python",
   "name": "python3"
  },
  "language_info": {
   "codemirror_mode": {
    "name": "ipython",
    "version": 3
   },
   "file_extension": ".py",
   "mimetype": "text/x-python",
   "name": "python",
   "nbconvert_exporter": "python",
   "pygments_lexer": "ipython3",
   "version": "3.8.12"
  }
 },
 "nbformat": 4,
 "nbformat_minor": 5
}
