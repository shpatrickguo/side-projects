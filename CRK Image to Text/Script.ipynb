{
 "cells": [
  {
   "cell_type": "markdown",
   "id": "52afc8a0-2c90-40fd-b382-bf3363610b24",
   "metadata": {},
   "source": [
    "## Imports"
   ]
  },
  {
   "cell_type": "code",
   "execution_count": 1,
   "id": "cb9d6f2f-5586-4285-a06e-5d399ceae3eb",
   "metadata": {},
   "outputs": [],
   "source": [
    "%%capture\n",
    "!pip install pytesseract pillow\n",
    "!pip install opencv-python"
   ]
  },
  {
   "cell_type": "code",
   "execution_count": 35,
   "id": "43305036-47b0-4e03-a774-e0b76f00b6e3",
   "metadata": {},
   "outputs": [],
   "source": [
    "import pytesseract\n",
    "from PIL import Image\n",
    "from PIL import Image, ImageFilter\n",
    "import cv2\n",
    "import numpy as np\n",
    "import os\n",
    "import re"
   ]
  },
  {
   "cell_type": "markdown",
   "id": "5ae75d30-4942-463b-89a3-7f91906d5d42",
   "metadata": {},
   "source": [
    "## Global Variables"
   ]
  },
  {
   "cell_type": "code",
   "execution_count": 11,
   "id": "97612ac2-3748-4133-bc92-94f4517d587f",
   "metadata": {},
   "outputs": [],
   "source": [
    "# Season\n",
    "SEASON = \"S3-1\""
   ]
  },
  {
   "cell_type": "code",
   "execution_count": 25,
   "id": "e9d4a3dd-489d-46d6-a3aa-0d5b07fb61c0",
   "metadata": {},
   "outputs": [],
   "source": [
    "def ocr_image(image_path, kernel_size=1):\n",
    "\n",
    "    # Load image\n",
    "    image = Image.open(image_path)\n",
    "\n",
    "    # Convert to grayscale    \n",
    "    gray = image.convert('L')\n",
    "\n",
    "    # Apply gaussian blur to remove noise\n",
    "    blur = gray.filter(ImageFilter.GaussianBlur(radius=kernel_size))\n",
    "\n",
    "    # Perform OCR\n",
    "    text = pytesseract.image_to_string(blur)\n",
    "\n",
    "    return text\n",
    "\n"
   ]
  },
  {
   "cell_type": "code",
   "execution_count": 50,
   "id": "bab4f5fb-99d1-4165-810f-5f4c19fb8951",
   "metadata": {},
   "outputs": [
    {
     "name": "stdout",
     "output_type": "stream",
     "text": [
      "Processing folder: valertine\n",
      "\n",
      "Processing folder: r2miss\n",
      "Folder: r2miss\n",
      "Boss: Living Abyss\n",
      "Damage: 301,591,756\n",
      "Folder: r2miss\n",
      "Boss: Red Velvet Dragon\n",
      "Damage: 380,257,878\n",
      "\n"
     ]
    }
   ],
   "source": [
    "main_folder = 'images'\n",
    "\n",
    "# Loop through all subfolders \n",
    "for folder_name in os.listdir(main_folder):\n",
    "\n",
    "    folder_path = os.path.join(main_folder, folder_name)\n",
    "\n",
    "    # Skip non-folders\n",
    "    if not os.path.isdir(folder_path):\n",
    "        continue\n",
    "\n",
    "    print(f\"Processing folder: {folder_name}\")\n",
    "    \n",
    "    # Loop through images inside this folder\n",
    "    for filename in os.listdir(folder_path):\n",
    "\n",
    "        # Skip non-image files\n",
    "        if not filename.endswith('.png'):\n",
    "            continue\n",
    "\n",
    "        image_path = os.path.join(folder_path, filename)\n",
    "        \n",
    "        # Perform OCR on image\n",
    "        text = ocr_image(image_path)\n",
    "        \n",
    "        # Extract damage \n",
    "        damage = re.search(r'Total Damage: (\\d{1,3}(,\\d{3})*)', text).group(1)\n",
    "        \n",
    "        # Extract boss name\n",
    "        boss = re.search(r'(Living Abyss|Red Velvet Dragon|Avatar of Destiny)', text).group(1)\n",
    "\n",
    "        \n",
    "        # Print folder name and text\n",
    "        print(f\"Folder: {folder_name}\")\n",
    "        #print(f\"File: {filename}\")\n",
    "        print(f\"Boss: {boss}\")\n",
    "        print(f\"Damage: {damage}\")\n",
    "\n",
    "    print()"
   ]
  },
  {
   "cell_type": "code",
   "execution_count": 32,
   "id": "c0a7f4bc-b679-49e1-807e-f1e18ea280f1",
   "metadata": {},
   "outputs": [
    {
     "name": "stdout",
     "output_type": "stream",
     "text": [
      "Script.ipynb \u001b[34mimages\u001b[m\u001b[m\n"
     ]
    }
   ],
   "source": [
    "!ls"
   ]
  },
  {
   "cell_type": "code",
   "execution_count": null,
   "id": "abf5b61b-280e-4870-9747-3858d76e59e3",
   "metadata": {},
   "outputs": [],
   "source": []
  }
 ],
 "metadata": {
  "kernelspec": {
   "display_name": "Python 3 (ipykernel)",
   "language": "python",
   "name": "python3"
  },
  "language_info": {
   "codemirror_mode": {
    "name": "ipython",
    "version": 3
   },
   "file_extension": ".py",
   "mimetype": "text/x-python",
   "name": "python",
   "nbconvert_exporter": "python",
   "pygments_lexer": "ipython3",
   "version": "3.8.12"
  }
 },
 "nbformat": 4,
 "nbformat_minor": 5
}
