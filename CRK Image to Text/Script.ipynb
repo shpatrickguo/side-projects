{
 "cells": [
  {
   "cell_type": "markdown",
   "id": "52afc8a0-2c90-40fd-b382-bf3363610b24",
   "metadata": {},
   "source": [
    "## Imports"
   ]
  },
  {
   "cell_type": "code",
   "execution_count": 1,
   "id": "cb9d6f2f-5586-4285-a06e-5d399ceae3eb",
   "metadata": {},
   "outputs": [],
   "source": [
    "%%capture\n",
    "!pip install pytesseract pillow\n",
    "!pip install opencv-python"
   ]
  },
  {
   "cell_type": "code",
   "execution_count": 35,
   "id": "43305036-47b0-4e03-a774-e0b76f00b6e3",
   "metadata": {},
   "outputs": [],
   "source": [
    "import pytesseract\n",
    "from PIL import Image\n",
    "from PIL import Image, ImageFilter\n",
    "import cv2\n",
    "import numpy as np\n",
    "import os\n",
    "import re\n",
    "import "
   ]
  },
  {
   "cell_type": "code",
   "execution_count": 51,
   "id": "97612ac2-3748-4133-bc92-94f4517d587f",
   "metadata": {},
   "outputs": [],
   "source": [
    "# Season\n",
    "SEASON = \"S3-1\"\n",
    "\n",
    "# Set of allowed image formats\n",
    "IMAGE_FORMATS = {'png', 'jpg', 'jpeg'} "
   ]
  },
  {
   "cell_type": "code",
   "execution_count": 52,
   "id": "e9d4a3dd-489d-46d6-a3aa-0d5b07fb61c0",
   "metadata": {},
   "outputs": [],
   "source": [
    "def ocr_image(image_path, kernel_size=1):\n",
    "\n",
    "    # Validate image file\n",
    "    ext = os.path.splitext(image_path)[1].lower()\n",
    "    if ext[1:] not in IMAGE_FORMATS and imghdr.what(image_path) not in IMAGE_FORMATS: \n",
    "        raise Exception(\"Invalid image format\")\n",
    "    \n",
    "    # Load image\n",
    "    image = Image.open(image_path)\n",
    "\n",
    "    # Convert to grayscale    \n",
    "    gray = image.convert('L')\n",
    "\n",
    "    # Apply gaussian blur to remove noise\n",
    "    blur = gray.filter(ImageFilter.GaussianBlur(radius=kernel_size))\n",
    "\n",
    "    # Perform OCR\n",
    "    text = pytesseract.image_to_string(blur)\n",
    "\n",
    "    return text"
   ]
  },
  {
   "cell_type": "code",
   "execution_count": 54,
   "id": "bab4f5fb-99d1-4165-810f-5f4c19fb8951",
   "metadata": {},
   "outputs": [
    {
     "name": "stdout",
     "output_type": "stream",
     "text": [
      "Processing folder: valertine\n",
      "Folder: valertine\n",
      "Boss: Living Abyss\n",
      "Damage: 246,340,361\n",
      "Folder: valertine\n",
      "Boss: Red Velvet Dragon\n",
      "Damage: 313,649,929\n"
     ]
    },
    {
     "ename": "NameError",
     "evalue": "name 'imghdr' is not defined",
     "output_type": "error",
     "traceback": [
      "\u001b[0;31m---------------------------------------------------------------------------\u001b[0m",
      "\u001b[0;31mNameError\u001b[0m                                 Traceback (most recent call last)",
      "\u001b[0;32m/tmp/ipykernel_60942/1700042393.py\u001b[0m in \u001b[0;36m<module>\u001b[0;34m\u001b[0m\n\u001b[1;32m     18\u001b[0m \u001b[0;34m\u001b[0m\u001b[0m\n\u001b[1;32m     19\u001b[0m         \u001b[0;31m# Perform OCR on image\u001b[0m\u001b[0;34m\u001b[0m\u001b[0;34m\u001b[0m\u001b[0;34m\u001b[0m\u001b[0m\n\u001b[0;32m---> 20\u001b[0;31m         \u001b[0mtext\u001b[0m \u001b[0;34m=\u001b[0m \u001b[0mocr_image\u001b[0m\u001b[0;34m(\u001b[0m\u001b[0mimage_path\u001b[0m\u001b[0;34m)\u001b[0m\u001b[0;34m\u001b[0m\u001b[0;34m\u001b[0m\u001b[0m\n\u001b[0m\u001b[1;32m     21\u001b[0m \u001b[0;34m\u001b[0m\u001b[0m\n\u001b[1;32m     22\u001b[0m         \u001b[0;31m# Extract damage\u001b[0m\u001b[0;34m\u001b[0m\u001b[0;34m\u001b[0m\u001b[0;34m\u001b[0m\u001b[0m\n",
      "\u001b[0;32m/tmp/ipykernel_60942/536067777.py\u001b[0m in \u001b[0;36mocr_image\u001b[0;34m(image_path, kernel_size)\u001b[0m\n\u001b[1;32m      3\u001b[0m     \u001b[0;31m# Validate image file\u001b[0m\u001b[0;34m\u001b[0m\u001b[0;34m\u001b[0m\u001b[0;34m\u001b[0m\u001b[0m\n\u001b[1;32m      4\u001b[0m     \u001b[0mext\u001b[0m \u001b[0;34m=\u001b[0m \u001b[0mos\u001b[0m\u001b[0;34m.\u001b[0m\u001b[0mpath\u001b[0m\u001b[0;34m.\u001b[0m\u001b[0msplitext\u001b[0m\u001b[0;34m(\u001b[0m\u001b[0mimage_path\u001b[0m\u001b[0;34m)\u001b[0m\u001b[0;34m[\u001b[0m\u001b[0;36m1\u001b[0m\u001b[0;34m]\u001b[0m\u001b[0;34m.\u001b[0m\u001b[0mlower\u001b[0m\u001b[0;34m(\u001b[0m\u001b[0;34m)\u001b[0m\u001b[0;34m\u001b[0m\u001b[0;34m\u001b[0m\u001b[0m\n\u001b[0;32m----> 5\u001b[0;31m     \u001b[0;32mif\u001b[0m \u001b[0mext\u001b[0m\u001b[0;34m[\u001b[0m\u001b[0;36m1\u001b[0m\u001b[0;34m:\u001b[0m\u001b[0;34m]\u001b[0m \u001b[0;32mnot\u001b[0m \u001b[0;32min\u001b[0m \u001b[0mIMAGE_FORMATS\u001b[0m \u001b[0;32mand\u001b[0m \u001b[0mimghdr\u001b[0m\u001b[0;34m.\u001b[0m\u001b[0mwhat\u001b[0m\u001b[0;34m(\u001b[0m\u001b[0mimage_path\u001b[0m\u001b[0;34m)\u001b[0m \u001b[0;32mnot\u001b[0m \u001b[0;32min\u001b[0m \u001b[0mIMAGE_FORMATS\u001b[0m\u001b[0;34m:\u001b[0m\u001b[0;34m\u001b[0m\u001b[0;34m\u001b[0m\u001b[0m\n\u001b[0m\u001b[1;32m      6\u001b[0m         \u001b[0;32mraise\u001b[0m \u001b[0mException\u001b[0m\u001b[0;34m(\u001b[0m\u001b[0;34m\"Invalid image format\"\u001b[0m\u001b[0;34m)\u001b[0m\u001b[0;34m\u001b[0m\u001b[0;34m\u001b[0m\u001b[0m\n\u001b[1;32m      7\u001b[0m \u001b[0;34m\u001b[0m\u001b[0m\n",
      "\u001b[0;31mNameError\u001b[0m: name 'imghdr' is not defined"
     ]
    }
   ],
   "source": [
    "main_folder = 'images'\n",
    "\n",
    "# Loop through all subfolders \n",
    "for folder_name in os.listdir(main_folder):\n",
    "\n",
    "    folder_path = os.path.join(main_folder, folder_name)\n",
    "\n",
    "    # Skip non-folders\n",
    "    if not os.path.isdir(folder_path):\n",
    "        continue\n",
    "\n",
    "    print(f\"Processing folder: {folder_name}\")\n",
    "    \n",
    "    # Loop through images inside this folder\n",
    "    for filename in os.listdir(folder_path):\n",
    "\n",
    "        image_path = os.path.join(folder_path, filename)\n",
    "        \n",
    "        # Perform OCR on image\n",
    "        text = ocr_image(image_path)\n",
    "        \n",
    "        # Extract damage \n",
    "        damage = re.search(r'Total Damage: (\\d{1,3}(,\\d{3})*)', text).group(1)\n",
    "        \n",
    "        # Extract boss name\n",
    "        boss = re.search(r'(Living Abyss|Red Velvet Dragon|Avatar of Destiny)', text).group(1)\n",
    "\n",
    "        \n",
    "        # Print folder name and text\n",
    "        print(f\"Folder: {folder_name}\")\n",
    "        #print(f\"File: {filename}\")\n",
    "        print(f\"Boss: {boss}\")\n",
    "        print(f\"Damage: {damage}\")\n",
    "\n",
    "    print()"
   ]
  },
  {
   "cell_type": "code",
   "execution_count": 32,
   "id": "c0a7f4bc-b679-49e1-807e-f1e18ea280f1",
   "metadata": {},
   "outputs": [
    {
     "name": "stdout",
     "output_type": "stream",
     "text": [
      "Script.ipynb \u001b[34mimages\u001b[m\u001b[m\n"
     ]
    }
   ],
   "source": [
    "!ls"
   ]
  },
  {
   "cell_type": "code",
   "execution_count": null,
   "id": "abf5b61b-280e-4870-9747-3858d76e59e3",
   "metadata": {},
   "outputs": [],
   "source": []
  }
 ],
 "metadata": {
  "kernelspec": {
   "display_name": "Python 3 (ipykernel)",
   "language": "python",
   "name": "python3"
  },
  "language_info": {
   "codemirror_mode": {
    "name": "ipython",
    "version": 3
   },
   "file_extension": ".py",
   "mimetype": "text/x-python",
   "name": "python",
   "nbconvert_exporter": "python",
   "pygments_lexer": "ipython3",
   "version": "3.8.12"
  }
 },
 "nbformat": 4,
 "nbformat_minor": 5
}
