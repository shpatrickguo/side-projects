{
 "cells": [
  {
   "cell_type": "code",
   "execution_count": 1,
   "id": "5cfc6206-31eb-4765-bdf8-6c26d13ebd8b",
   "metadata": {},
   "outputs": [],
   "source": [
    "# Image handling\n",
    "from PIL import Image  \n",
    "from PIL import Image, ImageFilter\n",
    "import cv2\n",
    "import imghdr\n",
    "\n",
    "# Data handling\n",
    "import pandas as pd\n",
    "import numpy as np\n",
    "\n",
    "# Filesystem  \n",
    "import os\n",
    "\n",
    "# Text processing\n",
    "import pytesseract  \n",
    "import re\n",
    "\n",
    "# Dates\n",
    "from datetime import datetime"
   ]
  },
  {
   "cell_type": "code",
   "execution_count": 3,
   "id": "80c65837-1c10-4f34-969e-1ffed8a2a39a",
   "metadata": {},
   "outputs": [],
   "source": [
    "# Set of allowed image formats\n",
    "IMAGE_FORMATS = {'png', 'jpg', 'jpeg'} \n",
    "\n",
    "def ocr_image(image_path, kernel_size=1):\n",
    "\n",
    "    # Validate image file\n",
    "    ext = os.path.splitext(image_path)[1].lower()\n",
    "    if ext[1:] not in IMAGE_FORMATS and imghdr.what(image_path) not in IMAGE_FORMATS: \n",
    "        return None\n",
    "    \n",
    "    # Load image\n",
    "    image = Image.open(image_path)\n",
    "\n",
    "    # Convert to grayscale    \n",
    "    gray = image.convert('L')\n",
    "\n",
    "    # Apply gaussian blur to remove noise\n",
    "    blur = gray.filter(ImageFilter.GaussianBlur(radius=kernel_size))\n",
    "\n",
    "    # Perform OCR\n",
    "    text = pytesseract.image_to_string(blur)\n",
    "\n",
    "    return text"
   ]
  },
  {
   "cell_type": "code",
   "execution_count": 4,
   "id": "8df3dce1-bd76-4943-b5b2-3713979a6133",
   "metadata": {},
   "outputs": [
    {
     "ename": "NameError",
     "evalue": "name 'IMAGE_FORMATS' is not defined",
     "output_type": "error",
     "traceback": [
      "\u001b[0;31m---------------------------------------------------------------------------\u001b[0m",
      "\u001b[0;31mNameError\u001b[0m                                 Traceback (most recent call last)",
      "\u001b[0;32m/tmp/ipykernel_63915/955150507.py\u001b[0m in \u001b[0;36m<module>\u001b[0;34m\u001b[0m\n\u001b[0;32m----> 1\u001b[0;31m \u001b[0mocr_image\u001b[0m\u001b[0;34m(\u001b[0m\u001b[0;34m'IMG_0950.PNG'\u001b[0m\u001b[0;34m)\u001b[0m\u001b[0;34m\u001b[0m\u001b[0;34m\u001b[0m\u001b[0m\n\u001b[0m",
      "\u001b[0;32m/tmp/ipykernel_63915/3426670017.py\u001b[0m in \u001b[0;36mocr_image\u001b[0;34m(image_path, kernel_size)\u001b[0m\n\u001b[1;32m      3\u001b[0m     \u001b[0;31m# Validate image file\u001b[0m\u001b[0;34m\u001b[0m\u001b[0;34m\u001b[0m\u001b[0;34m\u001b[0m\u001b[0m\n\u001b[1;32m      4\u001b[0m     \u001b[0mext\u001b[0m \u001b[0;34m=\u001b[0m \u001b[0mos\u001b[0m\u001b[0;34m.\u001b[0m\u001b[0mpath\u001b[0m\u001b[0;34m.\u001b[0m\u001b[0msplitext\u001b[0m\u001b[0;34m(\u001b[0m\u001b[0mimage_path\u001b[0m\u001b[0;34m)\u001b[0m\u001b[0;34m[\u001b[0m\u001b[0;36m1\u001b[0m\u001b[0;34m]\u001b[0m\u001b[0;34m.\u001b[0m\u001b[0mlower\u001b[0m\u001b[0;34m(\u001b[0m\u001b[0;34m)\u001b[0m\u001b[0;34m\u001b[0m\u001b[0;34m\u001b[0m\u001b[0m\n\u001b[0;32m----> 5\u001b[0;31m     \u001b[0;32mif\u001b[0m \u001b[0mext\u001b[0m\u001b[0;34m[\u001b[0m\u001b[0;36m1\u001b[0m\u001b[0;34m:\u001b[0m\u001b[0;34m]\u001b[0m \u001b[0;32mnot\u001b[0m \u001b[0;32min\u001b[0m \u001b[0mIMAGE_FORMATS\u001b[0m \u001b[0;32mand\u001b[0m \u001b[0mimghdr\u001b[0m\u001b[0;34m.\u001b[0m\u001b[0mwhat\u001b[0m\u001b[0;34m(\u001b[0m\u001b[0mimage_path\u001b[0m\u001b[0;34m)\u001b[0m \u001b[0;32mnot\u001b[0m \u001b[0;32min\u001b[0m \u001b[0mIMAGE_FORMATS\u001b[0m\u001b[0;34m:\u001b[0m\u001b[0;34m\u001b[0m\u001b[0;34m\u001b[0m\u001b[0m\n\u001b[0m\u001b[1;32m      6\u001b[0m         \u001b[0;32mreturn\u001b[0m \u001b[0;32mNone\u001b[0m\u001b[0;34m\u001b[0m\u001b[0;34m\u001b[0m\u001b[0m\n\u001b[1;32m      7\u001b[0m \u001b[0;34m\u001b[0m\u001b[0m\n",
      "\u001b[0;31mNameError\u001b[0m: name 'IMAGE_FORMATS' is not defined"
     ]
    }
   ],
   "source": [
    "ocr_image('IMG_0950.PNG')"
   ]
  },
  {
   "cell_type": "code",
   "execution_count": null,
   "id": "85244bf1-c2f9-4cd4-91fe-633bb80fe625",
   "metadata": {},
   "outputs": [],
   "source": []
  }
 ],
 "metadata": {
  "kernelspec": {
   "display_name": "Python 3 (ipykernel)",
   "language": "python",
   "name": "python3"
  },
  "language_info": {
   "codemirror_mode": {
    "name": "ipython",
    "version": 3
   },
   "file_extension": ".py",
   "mimetype": "text/x-python",
   "name": "python",
   "nbconvert_exporter": "python",
   "pygments_lexer": "ipython3",
   "version": "3.8.12"
  }
 },
 "nbformat": 4,
 "nbformat_minor": 5
}
